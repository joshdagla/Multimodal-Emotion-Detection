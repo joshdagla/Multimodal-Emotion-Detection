{
 "cells": [
  {
   "cell_type": "code",
   "execution_count": 2,
   "id": "4df5a65c",
   "metadata": {},
   "outputs": [],
   "source": [
    "import sounddevice as sd\n",
    "import numpy as np\n",
    "import librosa\n",
    "import tensorflow as tf\n",
    "import time"
   ]
  },
  {
   "cell_type": "code",
   "execution_count": 3,
   "id": "bda0cd3c",
   "metadata": {},
   "outputs": [
    {
     "name": "stderr",
     "output_type": "stream",
     "text": [
      "WARNING:absl:Compiled the loaded model, but the compiled metrics have yet to be built. `model.compile_metrics` will be empty until you train or evaluate the model.\n"
     ]
    }
   ],
   "source": [
    "# Load your trained model\n",
    "model = tf.keras.models.load_model(\"audio_emotion_CNN_model.h5\")"
   ]
  },
  {
   "cell_type": "code",
   "execution_count": 4,
   "id": "ac933b6e",
   "metadata": {},
   "outputs": [],
   "source": [
    "# Class labels (adjust based on your training labels order)\n",
    "class_labels = [\"neutral\", \"calm\", \"happy\", \"sad\", \"angry\", \"fearful\", \"disgust\", \"surprised\"]\n",
    "\n",
    "# Audio parameters\n",
    "duration = 3  # seconds to record\n",
    "fs = 22050"
   ]
  },
  {
   "cell_type": "code",
   "execution_count": 5,
   "id": "13744038",
   "metadata": {},
   "outputs": [],
   "source": [
    "def extract_features(audio, sr=22050, n_mfcc=120, max_pad_len=174):\n",
    "    mfccs = librosa.feature.mfcc(y=audio, sr=sr, n_mfcc=n_mfcc)\n",
    "    # Pad or truncate\n",
    "    if mfccs.shape[1] < max_pad_len:\n",
    "        pad_width = max_pad_len - mfccs.shape[1]\n",
    "        mfccs = np.pad(mfccs, pad_width=((0, 0), (0, pad_width)), mode=\"constant\")\n",
    "    else:\n",
    "        mfccs = mfccs[:, :max_pad_len]\n",
    "    return mfccs"
   ]
  },
  {
   "cell_type": "code",
   "execution_count": 6,
   "id": "60139c7f",
   "metadata": {},
   "outputs": [],
   "source": [
    "def record_and_predict():\n",
    "    print(\"🎤 Recording...\")\n",
    "    audio = sd.rec(int(duration * fs), samplerate=fs, channels=1, dtype=\"float32\")\n",
    "    sd.wait()  # Wait until recording is finished\n",
    "    audio = np.squeeze(audio)\n",
    "\n",
    "    features = extract_features(audio, sr=fs)\n",
    "    features = np.expand_dims(features, axis=-1)  # (120, 174, 1)\n",
    "    features = np.expand_dims(features, axis=0)   # (1, 120, 174, 1)\n",
    "\n",
    "\n",
    "    # Predict\n",
    "    prediction = model.predict(features)\n",
    "    predicted_label = class_labels[np.argmax(prediction)]\n",
    "\n",
    "    print(f\"Predicted Emotion: {predicted_label}\")"
   ]
  },
  {
   "cell_type": "code",
   "execution_count": 7,
   "id": "d7afaa94",
   "metadata": {},
   "outputs": [
    {
     "name": "stdout",
     "output_type": "stream",
     "text": [
      "🎤 Recording...\n",
      "\u001b[1m1/1\u001b[0m \u001b[32m━━━━━━━━━━━━━━━━━━━━\u001b[0m\u001b[37m\u001b[0m \u001b[1m0s\u001b[0m 213ms/step\n",
      "Predicted Emotion: fearful\n",
      "🎤 Recording...\n",
      "\u001b[1m1/1\u001b[0m \u001b[32m━━━━━━━━━━━━━━━━━━━━\u001b[0m\u001b[37m\u001b[0m \u001b[1m0s\u001b[0m 26ms/step\n",
      "Predicted Emotion: surprised\n",
      "🎤 Recording...\n",
      "\u001b[1m1/1\u001b[0m \u001b[32m━━━━━━━━━━━━━━━━━━━━\u001b[0m\u001b[37m\u001b[0m \u001b[1m0s\u001b[0m 25ms/step\n",
      "Predicted Emotion: surprised\n"
     ]
    }
   ],
   "source": [
    "if __name__ == \"__main__\":\n",
    "    while True:\n",
    "        cmd = input(\"Press Enter to record and predict (or type 'q' to quit): \")\n",
    "        if cmd.lower() == \"q\":\n",
    "            break\n",
    "        record_and_predict()"
   ]
  }
 ],
 "metadata": {
  "kernelspec": {
   "display_name": "emotion_yolo",
   "language": "python",
   "name": "python3"
  },
  "language_info": {
   "codemirror_mode": {
    "name": "ipython",
    "version": 3
   },
   "file_extension": ".py",
   "mimetype": "text/x-python",
   "name": "python",
   "nbconvert_exporter": "python",
   "pygments_lexer": "ipython3",
   "version": "3.10.18"
  }
 },
 "nbformat": 4,
 "nbformat_minor": 5
}
